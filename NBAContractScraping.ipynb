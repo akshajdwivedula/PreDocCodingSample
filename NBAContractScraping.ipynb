{
 "cells": [
  {
   "cell_type": "code",
   "execution_count": null,
   "metadata": {},
   "outputs": [],
   "source": [
    "##NBA Salary Scraper - By Akshaj Dwivedula\n",
    "##Importing Packages\n",
    "import pandas as pd\n",
    "from bs4 import BeautifulSoup\n",
    "from bs4 import Comment\n",
    "import requests\n",
    "import re\n",
    "import time"
   ]
  },
  {
   "cell_type": "code",
   "execution_count": null,
   "metadata": {},
   "outputs": [],
   "source": [
    "##Read CSV of player names previously scraped and construct list of columns to use in scraper \n",
    "players_list = pd.read_csv(\"playersalary.csv\")\n",
    "years = list(players_list.columns)"
   ]
  },
  {
   "cell_type": "code",
   "execution_count": null,
   "metadata": {},
   "outputs": [],
   "source": [
    "##Collects Salary Information\n",
    "\n",
    "for i in range(0,len(players_list)):\n",
    "    name = players_list.iloc[i,1]\n",
    "    ##the URL is standard for all players, so we can construct it given information previously pulled\n",
    "    url = \"https://www.basketball-reference.com/players/\" + name[0] + \"/\" + name + \".html\"\n",
    "    page = requests.get(url)\n",
    "    time.sleep(3)\n",
    "    soup = BeautifulSoup(page.content, \"html.parser\")\n",
    "    body = soup.find(id = \"all_all_salaries\")\n",
    "    #Some players did not have salary data. This accounts for that situation\n",
    "    if body is None:\n",
    "        players_list.at[i,'SalaryExists'] = 0\n",
    "        next\n",
    "    else:\n",
    "        players_list.at[i,'SalaryExists'] = 1\n",
    "        #Salary data was within a comment, so this breaks down the html comment to extract the data\n",
    "        table = body.find(string=lambda string: isinstance(string,Comment))\n",
    "        a = re.findall(r'(?<!\\$)\\d+(?!\\,)(?!6ers)(?!ers)',table,re.MULTILINE)\n",
    "        for j in range(0, (len(a)-4)//7):\n",
    "            year = a[7*j +2] + \"-\" + a[7*j +3]\n",
    "            played = year + \"-played\"\n",
    "            salary = year + \"-salary\"\n",
    "            if played in years:\n",
    "                if players_list.loc[i,played] == 1:\n",
    "                    players_list.loc[i,salary] = int(a[7*j +6])\n",
    "                elif players_list.loc[i,played] == 0:\n",
    "                    next\n",
    "            else:\n",
    "                next"
   ]
  },
  {
   "cell_type": "code",
   "execution_count": null,
   "metadata": {},
   "outputs": [],
   "source": [
    "#Saves data to CSV\n",
    "players_list.to_csv('playersalary2.csv', index = False)"
   ]
  }
 ],
 "metadata": {
  "kernelspec": {
   "display_name": "Python 3",
   "language": "python",
   "name": "python3"
  },
  "language_info": {
   "name": "python",
   "version": "3.12.3"
  }
 },
 "nbformat": 4,
 "nbformat_minor": 2
}
